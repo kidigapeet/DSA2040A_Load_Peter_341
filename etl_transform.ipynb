{
 "cells": [
  {
   "cell_type": "code",
   "execution_count": null,
   "id": "9f0534da",
   "metadata": {},
   "outputs": [
    {
     "name": "stdout",
     "output_type": "stream",
     "text": [
      "Loaded:\n",
      " - raw: (8996, 21)\n",
      " - incremental: (998, 21)\n",
      "\n",
      "--- RAW BEFORE ---\n"
     ]
    },
    {
     "data": {
      "application/vnd.microsoft.datawrangler.viewer.v0+json": {
       "columns": [
        {
         "name": "index",
         "rawType": "int64",
         "type": "integer"
        },
        {
         "name": "Row ID",
         "rawType": "int64",
         "type": "integer"
        },
        {
         "name": "Order ID",
         "rawType": "object",
         "type": "string"
        },
        {
         "name": "Order Date",
         "rawType": "object",
         "type": "string"
        },
        {
         "name": "Ship Date",
         "rawType": "object",
         "type": "string"
        },
        {
         "name": "Ship Mode",
         "rawType": "object",
         "type": "string"
        },
        {
         "name": "Customer ID",
         "rawType": "object",
         "type": "string"
        },
        {
         "name": "Customer Name",
         "rawType": "object",
         "type": "string"
        },
        {
         "name": "Segment",
         "rawType": "object",
         "type": "string"
        },
        {
         "name": "Country",
         "rawType": "object",
         "type": "string"
        },
        {
         "name": "City",
         "rawType": "object",
         "type": "string"
        },
        {
         "name": "State",
         "rawType": "object",
         "type": "string"
        },
        {
         "name": "Postal Code",
         "rawType": "int64",
         "type": "integer"
        },
        {
         "name": "Region",
         "rawType": "object",
         "type": "string"
        },
        {
         "name": "Product ID",
         "rawType": "object",
         "type": "string"
        },
        {
         "name": "Category",
         "rawType": "object",
         "type": "string"
        },
        {
         "name": "Sub-Category",
         "rawType": "object",
         "type": "string"
        },
        {
         "name": "Product Name",
         "rawType": "object",
         "type": "string"
        },
        {
         "name": "Sales",
         "rawType": "float64",
         "type": "float"
        },
        {
         "name": "Quantity",
         "rawType": "int64",
         "type": "integer"
        },
        {
         "name": "Discount",
         "rawType": "float64",
         "type": "float"
        },
        {
         "name": "Profit",
         "rawType": "float64",
         "type": "float"
        }
       ],
       "ref": "5d7568c3-9839-47b3-9fc0-3e94b23a8498",
       "rows": [
        [
         "0",
         "7981",
         "CA-2014-103800",
         "2014-01-03",
         "1/7/2014",
         "Standard Class",
         "DP-13000",
         "Darren Powers",
         "Consumer",
         "United States",
         "Houston",
         "Texas",
         "77095",
         "Central",
         "OFF-PA-10000174",
         "Office Supplies",
         "Paper",
         "Message Book, Wirebound, Four 5 1/2\" X 4\" Forms/Pg., 200 Dupl. Sets/Book",
         "16.448",
         "2",
         "0.2",
         "5.5512"
        ],
        [
         "1",
         "740",
         "CA-2014-112326",
         "2014-01-04",
         "1/8/2014",
         "Standard Class",
         "PO-19195",
         "Phillina Ober",
         "Home Office",
         "United States",
         "Naperville",
         "Illinois",
         "60540",
         "Central",
         "OFF-LA-10003223",
         "Office Supplies",
         "Labels",
         "Avery 508",
         "11.784",
         "3",
         "0.2",
         "4.2717"
        ],
        [
         "2",
         "741",
         "CA-2014-112326",
         "2014-01-04",
         "1/8/2014",
         "Standard Class",
         "PO-19195",
         "Phillina Ober",
         "Home Office",
         "United States",
         "Naperville",
         "Illinois",
         "60540",
         "Central",
         "OFF-ST-10002743",
         "Office Supplies",
         "Storage",
         "SAFCO Boltless Steel Shelving",
         "272.736",
         "3",
         "0.2",
         "-64.7748"
        ]
       ],
       "shape": {
        "columns": 21,
        "rows": 3
       }
      },
      "text/html": [
       "<div>\n",
       "<style scoped>\n",
       "    .dataframe tbody tr th:only-of-type {\n",
       "        vertical-align: middle;\n",
       "    }\n",
       "\n",
       "    .dataframe tbody tr th {\n",
       "        vertical-align: top;\n",
       "    }\n",
       "\n",
       "    .dataframe thead th {\n",
       "        text-align: right;\n",
       "    }\n",
       "</style>\n",
       "<table border=\"1\" class=\"dataframe\">\n",
       "  <thead>\n",
       "    <tr style=\"text-align: right;\">\n",
       "      <th></th>\n",
       "      <th>Row ID</th>\n",
       "      <th>Order ID</th>\n",
       "      <th>Order Date</th>\n",
       "      <th>Ship Date</th>\n",
       "      <th>Ship Mode</th>\n",
       "      <th>Customer ID</th>\n",
       "      <th>Customer Name</th>\n",
       "      <th>Segment</th>\n",
       "      <th>Country</th>\n",
       "      <th>City</th>\n",
       "      <th>...</th>\n",
       "      <th>Postal Code</th>\n",
       "      <th>Region</th>\n",
       "      <th>Product ID</th>\n",
       "      <th>Category</th>\n",
       "      <th>Sub-Category</th>\n",
       "      <th>Product Name</th>\n",
       "      <th>Sales</th>\n",
       "      <th>Quantity</th>\n",
       "      <th>Discount</th>\n",
       "      <th>Profit</th>\n",
       "    </tr>\n",
       "  </thead>\n",
       "  <tbody>\n",
       "    <tr>\n",
       "      <th>0</th>\n",
       "      <td>7981</td>\n",
       "      <td>CA-2014-103800</td>\n",
       "      <td>2014-01-03</td>\n",
       "      <td>1/7/2014</td>\n",
       "      <td>Standard Class</td>\n",
       "      <td>DP-13000</td>\n",
       "      <td>Darren Powers</td>\n",
       "      <td>Consumer</td>\n",
       "      <td>United States</td>\n",
       "      <td>Houston</td>\n",
       "      <td>...</td>\n",
       "      <td>77095</td>\n",
       "      <td>Central</td>\n",
       "      <td>OFF-PA-10000174</td>\n",
       "      <td>Office Supplies</td>\n",
       "      <td>Paper</td>\n",
       "      <td>Message Book, Wirebound, Four 5 1/2\" X 4\" Form...</td>\n",
       "      <td>16.448</td>\n",
       "      <td>2</td>\n",
       "      <td>0.2</td>\n",
       "      <td>5.5512</td>\n",
       "    </tr>\n",
       "    <tr>\n",
       "      <th>1</th>\n",
       "      <td>740</td>\n",
       "      <td>CA-2014-112326</td>\n",
       "      <td>2014-01-04</td>\n",
       "      <td>1/8/2014</td>\n",
       "      <td>Standard Class</td>\n",
       "      <td>PO-19195</td>\n",
       "      <td>Phillina Ober</td>\n",
       "      <td>Home Office</td>\n",
       "      <td>United States</td>\n",
       "      <td>Naperville</td>\n",
       "      <td>...</td>\n",
       "      <td>60540</td>\n",
       "      <td>Central</td>\n",
       "      <td>OFF-LA-10003223</td>\n",
       "      <td>Office Supplies</td>\n",
       "      <td>Labels</td>\n",
       "      <td>Avery 508</td>\n",
       "      <td>11.784</td>\n",
       "      <td>3</td>\n",
       "      <td>0.2</td>\n",
       "      <td>4.2717</td>\n",
       "    </tr>\n",
       "    <tr>\n",
       "      <th>2</th>\n",
       "      <td>741</td>\n",
       "      <td>CA-2014-112326</td>\n",
       "      <td>2014-01-04</td>\n",
       "      <td>1/8/2014</td>\n",
       "      <td>Standard Class</td>\n",
       "      <td>PO-19195</td>\n",
       "      <td>Phillina Ober</td>\n",
       "      <td>Home Office</td>\n",
       "      <td>United States</td>\n",
       "      <td>Naperville</td>\n",
       "      <td>...</td>\n",
       "      <td>60540</td>\n",
       "      <td>Central</td>\n",
       "      <td>OFF-ST-10002743</td>\n",
       "      <td>Office Supplies</td>\n",
       "      <td>Storage</td>\n",
       "      <td>SAFCO Boltless Steel Shelving</td>\n",
       "      <td>272.736</td>\n",
       "      <td>3</td>\n",
       "      <td>0.2</td>\n",
       "      <td>-64.7748</td>\n",
       "    </tr>\n",
       "  </tbody>\n",
       "</table>\n",
       "<p>3 rows × 21 columns</p>\n",
       "</div>"
      ],
      "text/plain": [
       "   Row ID        Order ID  Order Date Ship Date       Ship Mode Customer ID  \\\n",
       "0    7981  CA-2014-103800  2014-01-03  1/7/2014  Standard Class    DP-13000   \n",
       "1     740  CA-2014-112326  2014-01-04  1/8/2014  Standard Class    PO-19195   \n",
       "2     741  CA-2014-112326  2014-01-04  1/8/2014  Standard Class    PO-19195   \n",
       "\n",
       "   Customer Name      Segment        Country        City  ... Postal Code  \\\n",
       "0  Darren Powers     Consumer  United States     Houston  ...       77095   \n",
       "1  Phillina Ober  Home Office  United States  Naperville  ...       60540   \n",
       "2  Phillina Ober  Home Office  United States  Naperville  ...       60540   \n",
       "\n",
       "    Region       Product ID         Category Sub-Category  \\\n",
       "0  Central  OFF-PA-10000174  Office Supplies        Paper   \n",
       "1  Central  OFF-LA-10003223  Office Supplies       Labels   \n",
       "2  Central  OFF-ST-10002743  Office Supplies      Storage   \n",
       "\n",
       "                                        Product Name    Sales  Quantity  \\\n",
       "0  Message Book, Wirebound, Four 5 1/2\" X 4\" Form...   16.448         2   \n",
       "1                                          Avery 508   11.784         3   \n",
       "2                      SAFCO Boltless Steel Shelving  272.736         3   \n",
       "\n",
       "   Discount   Profit  \n",
       "0       0.2   5.5512  \n",
       "1       0.2   4.2717  \n",
       "2       0.2 -64.7748  \n",
       "\n",
       "[3 rows x 21 columns]"
      ]
     },
     "metadata": {},
     "output_type": "display_data"
    },
    {
     "name": "stdout",
     "output_type": "stream",
     "text": [
      "Row ID             int64\n",
      "Order ID          object\n",
      "Order Date        object\n",
      "Ship Date         object\n",
      "Ship Mode         object\n",
      "Customer ID       object\n",
      "Customer Name     object\n",
      "Segment           object\n",
      "Country           object\n",
      "City              object\n",
      "State             object\n",
      "Postal Code        int64\n",
      "Region            object\n",
      "Product ID        object\n",
      "Category          object\n",
      "Sub-Category      object\n",
      "Product Name      object\n",
      "Sales            float64\n",
      "Quantity           int64\n",
      "Discount         float64\n",
      "Profit           float64\n",
      "dtype: object\n",
      "\n",
      "After date conversion: Order Date NaT = 0 , Ship Date NaT = 0\n",
      "\n",
      "Transform summaries:\n",
      " - raw duplicates removed: 0\n",
      " - inc duplicates removed: 0\n",
      "\n",
      "--- BEFORE (raw) sample ---\n"
     ]
    },
    {
     "data": {
      "application/vnd.microsoft.datawrangler.viewer.v0+json": {
       "columns": [
        {
         "name": "index",
         "rawType": "int64",
         "type": "integer"
        },
        {
         "name": "Order Date",
         "rawType": "object",
         "type": "string"
        },
        {
         "name": "Ship Date",
         "rawType": "object",
         "type": "string"
        }
       ],
       "ref": "e2dbf4d4-95ac-4d23-a4f5-4540649eef43",
       "rows": [
        [
         "0",
         "2014-01-03",
         "1/7/2014"
        ],
        [
         "1",
         "2014-01-04",
         "1/8/2014"
        ],
        [
         "2",
         "2014-01-04",
         "1/8/2014"
        ]
       ],
       "shape": {
        "columns": 2,
        "rows": 3
       }
      },
      "text/html": [
       "<div>\n",
       "<style scoped>\n",
       "    .dataframe tbody tr th:only-of-type {\n",
       "        vertical-align: middle;\n",
       "    }\n",
       "\n",
       "    .dataframe tbody tr th {\n",
       "        vertical-align: top;\n",
       "    }\n",
       "\n",
       "    .dataframe thead th {\n",
       "        text-align: right;\n",
       "    }\n",
       "</style>\n",
       "<table border=\"1\" class=\"dataframe\">\n",
       "  <thead>\n",
       "    <tr style=\"text-align: right;\">\n",
       "      <th></th>\n",
       "      <th>Order Date</th>\n",
       "      <th>Ship Date</th>\n",
       "    </tr>\n",
       "  </thead>\n",
       "  <tbody>\n",
       "    <tr>\n",
       "      <th>0</th>\n",
       "      <td>2014-01-03</td>\n",
       "      <td>1/7/2014</td>\n",
       "    </tr>\n",
       "    <tr>\n",
       "      <th>1</th>\n",
       "      <td>2014-01-04</td>\n",
       "      <td>1/8/2014</td>\n",
       "    </tr>\n",
       "    <tr>\n",
       "      <th>2</th>\n",
       "      <td>2014-01-04</td>\n",
       "      <td>1/8/2014</td>\n",
       "    </tr>\n",
       "  </tbody>\n",
       "</table>\n",
       "</div>"
      ],
      "text/plain": [
       "   Order Date Ship Date\n",
       "0  2014-01-03  1/7/2014\n",
       "1  2014-01-04  1/8/2014\n",
       "2  2014-01-04  1/8/2014"
      ]
     },
     "metadata": {},
     "output_type": "display_data"
    },
    {
     "name": "stdout",
     "output_type": "stream",
     "text": [
      "\n",
      "--- AFTER (raw) sample ---\n"
     ]
    },
    {
     "data": {
      "application/vnd.microsoft.datawrangler.viewer.v0+json": {
       "columns": [
        {
         "name": "index",
         "rawType": "int64",
         "type": "integer"
        },
        {
         "name": "Order Date",
         "rawType": "datetime64[ns]",
         "type": "datetime"
        },
        {
         "name": "Ship Date",
         "rawType": "datetime64[ns]",
         "type": "datetime"
        },
        {
         "name": "Shipping_Duration_days",
         "rawType": "float64",
         "type": "float"
        },
        {
         "name": "Profit_Margin",
         "rawType": "float64",
         "type": "float"
        },
        {
         "name": "Sales_Tier",
         "rawType": "category",
         "type": "unknown"
        }
       ],
       "ref": "873f324f-bf41-4530-a6a4-d489c7c633b4",
       "rows": [
        [
         "0",
         "2014-01-03 00:00:00",
         "2014-01-07 00:00:00",
         "4.0",
         "0.33749999999999997",
         "Low"
        ],
        [
         "1",
         "2014-01-04 00:00:00",
         "2014-01-08 00:00:00",
         "4.0",
         "0.3625",
         "Low"
        ],
        [
         "2",
         "2014-01-04 00:00:00",
         "2014-01-08 00:00:00",
         "4.0",
         "-0.23750000000000002",
         "High"
        ],
        [
         "3",
         "2014-01-04 00:00:00",
         "2014-01-08 00:00:00",
         "4.0",
         "-1.55",
         "Low"
        ],
        [
         "4",
         "2014-01-05 00:00:00",
         "2014-01-12 00:00:00",
         "7.0",
         "0.25",
         "Medium"
        ]
       ],
       "shape": {
        "columns": 5,
        "rows": 5
       }
      },
      "text/html": [
       "<div>\n",
       "<style scoped>\n",
       "    .dataframe tbody tr th:only-of-type {\n",
       "        vertical-align: middle;\n",
       "    }\n",
       "\n",
       "    .dataframe tbody tr th {\n",
       "        vertical-align: top;\n",
       "    }\n",
       "\n",
       "    .dataframe thead th {\n",
       "        text-align: right;\n",
       "    }\n",
       "</style>\n",
       "<table border=\"1\" class=\"dataframe\">\n",
       "  <thead>\n",
       "    <tr style=\"text-align: right;\">\n",
       "      <th></th>\n",
       "      <th>Order Date</th>\n",
       "      <th>Ship Date</th>\n",
       "      <th>Shipping_Duration_days</th>\n",
       "      <th>Profit_Margin</th>\n",
       "      <th>Sales_Tier</th>\n",
       "    </tr>\n",
       "  </thead>\n",
       "  <tbody>\n",
       "    <tr>\n",
       "      <th>0</th>\n",
       "      <td>2014-01-03</td>\n",
       "      <td>2014-01-07</td>\n",
       "      <td>4.0</td>\n",
       "      <td>0.3375</td>\n",
       "      <td>Low</td>\n",
       "    </tr>\n",
       "    <tr>\n",
       "      <th>1</th>\n",
       "      <td>2014-01-04</td>\n",
       "      <td>2014-01-08</td>\n",
       "      <td>4.0</td>\n",
       "      <td>0.3625</td>\n",
       "      <td>Low</td>\n",
       "    </tr>\n",
       "    <tr>\n",
       "      <th>2</th>\n",
       "      <td>2014-01-04</td>\n",
       "      <td>2014-01-08</td>\n",
       "      <td>4.0</td>\n",
       "      <td>-0.2375</td>\n",
       "      <td>High</td>\n",
       "    </tr>\n",
       "    <tr>\n",
       "      <th>3</th>\n",
       "      <td>2014-01-04</td>\n",
       "      <td>2014-01-08</td>\n",
       "      <td>4.0</td>\n",
       "      <td>-1.5500</td>\n",
       "      <td>Low</td>\n",
       "    </tr>\n",
       "    <tr>\n",
       "      <th>4</th>\n",
       "      <td>2014-01-05</td>\n",
       "      <td>2014-01-12</td>\n",
       "      <td>7.0</td>\n",
       "      <td>0.2500</td>\n",
       "      <td>Medium</td>\n",
       "    </tr>\n",
       "  </tbody>\n",
       "</table>\n",
       "</div>"
      ],
      "text/plain": [
       "  Order Date  Ship Date  Shipping_Duration_days  Profit_Margin Sales_Tier\n",
       "0 2014-01-03 2014-01-07                     4.0         0.3375        Low\n",
       "1 2014-01-04 2014-01-08                     4.0         0.3625        Low\n",
       "2 2014-01-04 2014-01-08                     4.0        -0.2375       High\n",
       "3 2014-01-04 2014-01-08                     4.0        -1.5500        Low\n",
       "4 2014-01-05 2014-01-12                     7.0         0.2500     Medium"
      ]
     },
     "metadata": {},
     "output_type": "display_data"
    },
    {
     "name": "stdout",
     "output_type": "stream",
     "text": [
      "\n",
      "--- Data types after transform (raw) ---\n",
      "Row ID                             int64\n",
      "Order ID                          object\n",
      "Order Date                datetime64[ns]\n",
      "Ship Date                 datetime64[ns]\n",
      "Ship Mode                       category\n",
      "Customer ID                       object\n",
      "Customer Name                     object\n",
      "Segment                         category\n",
      "Country                         category\n",
      "City                              object\n",
      "State                             object\n",
      "Postal Code                       object\n",
      "Region                          category\n",
      "Product ID                        object\n",
      "Category                        category\n",
      "Sub-Category                    category\n",
      "Product Name                      object\n",
      "Sales                            float64\n",
      "Quantity                           int64\n",
      "Discount                         float64\n",
      "Profit                           float64\n",
      "Shipping_Duration_days           float64\n",
      "Profit_Margin                    float64\n",
      "Sales_Tier                      category\n",
      "Revenue_per_Item                 float64\n",
      "dtype: object\n",
      "\n",
      "Count by Sales_Tier (raw):\n"
     ]
    },
    {
     "data": {
      "application/vnd.microsoft.datawrangler.viewer.v0+json": {
       "columns": [
        {
         "name": "Sales_Tier",
         "rawType": "category",
         "type": "unknown"
        },
        {
         "name": "count",
         "rawType": "int64",
         "type": "integer"
        }
       ],
       "ref": "4eb97b21-9f3e-43e5-8eee-3472efe99d1d",
       "rows": [
        [
         "Medium",
         "4501"
        ],
        [
         "Low",
         "2249"
        ],
        [
         "High",
         "2246"
        ]
       ],
       "shape": {
        "columns": 1,
        "rows": 3
       }
      },
      "text/plain": [
       "Sales_Tier\n",
       "Medium    4501\n",
       "Low       2249\n",
       "High      2246\n",
       "Name: count, dtype: int64"
      ]
     },
     "metadata": {},
     "output_type": "display_data"
    },
    {
     "name": "stdout",
     "output_type": "stream",
     "text": [
      "\n",
      "Shipping Duration stats (raw):\n"
     ]
    },
    {
     "data": {
      "application/vnd.microsoft.datawrangler.viewer.v0+json": {
       "columns": [
        {
         "name": "index",
         "rawType": "object",
         "type": "string"
        },
        {
         "name": "Shipping_Duration_days",
         "rawType": "float64",
         "type": "float"
        }
       ],
       "ref": "2725fd51-fe4a-4f92-8c81-82943a712ea6",
       "rows": [
        [
         "count",
         "8996.0"
        ],
        [
         "mean",
         "3.9610938194753222"
        ],
        [
         "std",
         "1.7445024531322928"
        ],
        [
         "min",
         "0.0"
        ],
        [
         "25%",
         "3.0"
        ],
        [
         "50%",
         "4.0"
        ],
        [
         "75%",
         "5.0"
        ],
        [
         "max",
         "7.0"
        ]
       ],
       "shape": {
        "columns": 1,
        "rows": 8
       }
      },
      "text/plain": [
       "count    8996.000000\n",
       "mean        3.961094\n",
       "std         1.744502\n",
       "min         0.000000\n",
       "25%         3.000000\n",
       "50%         4.000000\n",
       "75%         5.000000\n",
       "max         7.000000\n",
       "Name: Shipping_Duration_days, dtype: float64"
      ]
     },
     "metadata": {},
     "output_type": "display_data"
    },
    {
     "name": "stdout",
     "output_type": "stream",
     "text": [
      "\n",
      "Profit margin stats (raw):\n"
     ]
    },
    {
     "data": {
      "application/vnd.microsoft.datawrangler.viewer.v0+json": {
       "columns": [
        {
         "name": "index",
         "rawType": "object",
         "type": "string"
        },
        {
         "name": "Profit_Margin",
         "rawType": "float64",
         "type": "float"
        }
       ],
       "ref": "593a798e-4321-4ac5-81bf-fba9a1a6cb25",
       "rows": [
        [
         "count",
         "8996.0"
        ],
        [
         "mean",
         "0.12024524332349051"
        ],
        [
         "std",
         "0.46750669913214293"
        ],
        [
         "min",
         "-2.75"
        ],
        [
         "25%",
         "0.075"
        ],
        [
         "50%",
         "0.27"
        ],
        [
         "75%",
         "0.3625"
        ],
        [
         "max",
         "0.5"
        ]
       ],
       "shape": {
        "columns": 1,
        "rows": 8
       }
      },
      "text/plain": [
       "count    8996.000000\n",
       "mean        0.120245\n",
       "std         0.467507\n",
       "min        -2.750000\n",
       "25%         0.075000\n",
       "50%         0.270000\n",
       "75%         0.362500\n",
       "max         0.500000\n",
       "Name: Profit_Margin, dtype: float64"
      ]
     },
     "metadata": {},
     "output_type": "display_data"
    },
    {
     "name": "stdout",
     "output_type": "stream",
     "text": [
      "\n",
      "Filtered 0 rows with missing Order Date (if any).\n",
      "\n",
      "✅ Transformed files saved:\n",
      " - C:/Users/kidig/OneDrive/Desktop/ET_Exam_Peter_341/Transformed/transformed_full.csv\n",
      " - C:/Users/kidig/OneDrive/Desktop/ET_Exam_Peter_341/Transformed/transformed_incremental.csv\n",
      "\n",
      "--- TRANSFORM PHASE SUMMARY ---\n",
      "Input raw rows: 8996 -> Output (transformed) rows: 8996\n",
      "Input incremental rows: 998 -> Output (transformed) rows: 998\n",
      "Transformations applied (examples):\n",
      " 1) Convert Order Date & Ship Date -> datetime\n",
      " 2) Create Shipping_Duration_days = Ship Date - Order Date\n",
      " 3) Create Profit_Margin = Profit / Sales\n",
      " 4) Postal Code -> string; trimmed textual fields\n",
      " 5) Sales_Tier (Low/Medium/High) via quantiles\n",
      " 6) Convert categorical columns to category dtype\n",
      " 7) Revenue_per_Item = Sales / Quantity\n",
      "All transformations are deterministic and the notebook is re-runnable.\n"
     ]
    }
   ],
   "source": [
    "# ============================================================\n",
    "# ETL TRANSFORM PHASE - DSA 2040A FS 2025\n",
    "# Student: Peter [ID: ***341]\n",
    "# Dataset: Superstore Sales (Kaggle)\n",
    "# Purpose: Apply >=5 transformations, show before/after, save outputs\n",
    "# ============================================================\n",
    "\n",
    "# === 1. Imports ===\n",
    "import pandas as pd\n",
    "import numpy as np\n",
    "from datetime import timedelta\n",
    "\n",
    "# === 2. File paths (adjusted to your environment) ===\n",
    "RAW_PATH = 'C:/Users/kidig/OneDrive/Desktop/ET_Exam_Peter_341/Data/raw_data.csv'\n",
    "INC_PATH = 'C:/Users/kidig/OneDrive/Desktop/ET_Exam_Peter_341/Data/incremental_data.csv'\n",
    "OUT_FULL = 'C:/Users/kidig/OneDrive/Desktop/ET_Exam_Peter_341/Transformed/transformed_full.csv'\n",
    "OUT_INC  = 'C:/Users/kidig/OneDrive/Desktop/ET_Exam_Peter_341/Transformed/transformed_incremental.csv'\n",
    "\n",
    "# Create output folder if it doesn't exist (pure Python - works in notebook)\n",
    "import os\n",
    "os.makedirs(os.path.dirname(OUT_FULL), exist_ok=True)\n",
    "\n",
    "# === 3. Load datasets ===\n",
    "# Read CSVs using a permissive decoding strategy to avoid UnicodeDecodeError.\n",
    "# Try UTF-8 first and fall back to latin-1 if that fails.\n",
    "try:\n",
    "    raw_df = pd.read_csv(RAW_PATH, encoding='utf-8')\n",
    "except UnicodeDecodeError:\n",
    "    raw_df = pd.read_csv(RAW_PATH, encoding='latin-1')\n",
    "\n",
    "try:\n",
    "    inc_df = pd.read_csv(INC_PATH, encoding='utf-8')\n",
    "except UnicodeDecodeError:\n",
    "    inc_df = pd.read_csv(INC_PATH, encoding='latin-1')\n",
    "\n",
    "print(\"Loaded:\")\n",
    "print(\" - raw:\", raw_df.shape)\n",
    "print(\" - incremental:\", inc_df.shape)\n",
    "\n",
    "# Quick display for \"before\" snapshots\n",
    "print(\"\\n--- RAW BEFORE ---\")\n",
    "display(raw_df.head(3))\n",
    "print(raw_df.dtypes)\n",
    "\n",
    "# === 4. Define transformation function (applies same pipeline to any df) ===\n",
    "def transform_df(df, show_examples=True):\n",
    "    df = df.copy()  # don't modify original\n",
    "    \n",
    "    # ---------- Transformation 1: Standardize date fields ----------\n",
    "    # Convert Order Date and Ship Date to datetime (Standardization)\n",
    "    df['Order Date'] = pd.to_datetime(df['Order Date'], errors='coerce')\n",
    "    df['Ship Date']  = pd.to_datetime(df['Ship Date'], errors='coerce')\n",
    "    \n",
    "    # Show if any coerced to NaT\n",
    "    if show_examples:\n",
    "        print(\"\\nAfter date conversion: Order Date NaT =\", df['Order Date'].isna().sum(),\n",
    "              \", Ship Date NaT =\", df['Ship Date'].isna().sum())\n",
    "    \n",
    "    # ---------- Transformation 2: Enrichment - Shipping Duration ----------\n",
    "    # Create Shipping_Duration (in days) = Ship Date - Order Date\n",
    "    df['Shipping_Duration_days'] = (df['Ship Date'] - df['Order Date']).dt.days\n",
    "    \n",
    "    # Replace negative or missing durations with NaN (could be data issues)\n",
    "    df.loc[df['Shipping_Duration_days'] < 0, 'Shipping_Duration_days'] = np.nan\n",
    "    \n",
    "    # ---------- Transformation 3: Enrichment - Profit Margin ----------\n",
    "    # Profit margin as Profit / Sales (handle Sales == 0)\n",
    "    df['Profit_Margin'] = np.where(df['Sales'] == 0, np.nan, df['Profit'] / df['Sales'])\n",
    "    \n",
    "    # ---------- Transformation 4: Structural - Postal Code as string ----------\n",
    "    # Postal codes may have leading zeros; convert to str and zero-pad if needed\n",
    "    df['Postal Code'] = df['Postal Code'].astype(str).str.strip()\n",
    "    \n",
    "    # If you want 5-digit format (optional), uncomment and adjust:\n",
    "    # df['Postal Code'] = df['Postal Code'].str.zfill(5)\n",
    "    \n",
    "    # ---------- Transformation 5: Cleaning - Trim whitespace, fix case for text ----------\n",
    "    text_cols = ['Ship Mode', 'Customer ID', 'Customer Name', 'Segment', 'Country',\n",
    "                 'City', 'State', 'Region', 'Product ID', 'Category', 'Sub-Category', 'Product Name', 'Order ID']\n",
    "    for c in text_cols:\n",
    "        if c in df.columns:\n",
    "            df[c] = df[c].astype(str).str.strip()\n",
    "    \n",
    "    # ---------- Transformation 6: Categorization - Sales Tier ----------\n",
    "    # Create Sales_Tier bins (Low, Medium, High) using quantiles (categorization)\n",
    "    try:\n",
    "        q25, q75 = df['Sales'].quantile([0.25, 0.75])\n",
    "        bins = [-np.inf, q25, q75, np.inf]\n",
    "        labels = ['Low', 'Medium', 'High']\n",
    "        df['Sales_Tier'] = pd.cut(df['Sales'], bins=bins, labels=labels)\n",
    "    except Exception as e:\n",
    "        df['Sales_Tier'] = np.nan\n",
    "    \n",
    "    # ---------- Transformation 7: Structural - Convert some columns to 'category' dtype ----------\n",
    "    cat_cols = ['Ship Mode', 'Segment', 'Country', 'Region', 'Category', 'Sub-Category', 'Sales_Tier']\n",
    "    for c in cat_cols:\n",
    "        if c in df.columns:\n",
    "            df[c] = df[c].astype('category')\n",
    "    \n",
    "    # ---------- Transformation 8: Cleaning - Remove exact duplicate rows ----------\n",
    "    before_dup = df.shape[0]\n",
    "    df = df.drop_duplicates(ignore_index=True)\n",
    "    after_dup = df.shape[0]\n",
    "    # (No aggressive row filtering here — keep it safe)\n",
    "    \n",
    "    # ---------- Optional: Create derived column 'Revenue_per_Item' ----------\n",
    "    # If we treat 'Sales' divided by 'Quantity' as approximate unit revenue\n",
    "    df['Revenue_per_Item'] = np.where(df['Quantity'] == 0, np.nan, df['Sales'] / df['Quantity'])\n",
    "    \n",
    "    # Reset index\n",
    "    df = df.reset_index(drop=True)\n",
    "    \n",
    "    # Return transformed dataframe and a small summary dict\n",
    "    summary = {\n",
    "        'rows_before_duplicates': before_dup,\n",
    "        'rows_after_duplicates': after_dup\n",
    "    }\n",
    "    return df, summary\n",
    "\n",
    "# === 5. Apply transformation to raw and incremental datasets ===\n",
    "trans_raw, raw_summary = transform_df(raw_df, show_examples=True)\n",
    "trans_inc, inc_summary = transform_df(inc_df, show_examples=False)\n",
    "\n",
    "print(\"\\nTransform summaries:\")\n",
    "print(\" - raw duplicates removed:\", raw_summary['rows_before_duplicates'] - raw_summary['rows_after_duplicates'])\n",
    "print(\" - inc duplicates removed:\", inc_summary['rows_before_duplicates'] - inc_summary['rows_after_duplicates'])\n",
    "\n",
    "# === 6. Show BEFORE vs AFTER for key columns (raw dataset) ===\n",
    "print(\"\\n--- BEFORE (raw) sample ---\")\n",
    "display(raw_df.loc[:, ['Order Date','Ship Date','Shipping_Duration_days']] .head(3) if 'Shipping_Duration_days' in raw_df.columns else raw_df.loc[:, ['Order Date','Ship Date']].head(3))\n",
    "print(\"\\n--- AFTER (raw) sample ---\")\n",
    "display(trans_raw.loc[:, ['Order Date','Ship Date','Shipping_Duration_days','Profit_Margin','Sales_Tier']].head(5))\n",
    "\n",
    "# Data types after transformation\n",
    "print(\"\\n--- Data types after transform (raw) ---\")\n",
    "print(trans_raw.dtypes)\n",
    "\n",
    "# === 7. Quick sanity checks / aggregations (to show transformation effects) ===\n",
    "print(\"\\nCount by Sales_Tier (raw):\")\n",
    "display(trans_raw['Sales_Tier'].value_counts(dropna=False))\n",
    "\n",
    "print(\"\\nShipping Duration stats (raw):\")\n",
    "display(trans_raw['Shipping_Duration_days'].describe())\n",
    "\n",
    "print(\"\\nProfit margin stats (raw):\")\n",
    "display(trans_raw['Profit_Margin'].describe())\n",
    "\n",
    "# === 8. Filtering example - remove rows with null Order Date (if any) ===\n",
    "before_filter = trans_raw.shape[0]\n",
    "trans_raw = trans_raw[~trans_raw['Order Date'].isna()].reset_index(drop=True)\n",
    "after_filter = trans_raw.shape[0]\n",
    "print(f\"\\nFiltered {before_filter - after_filter} rows with missing Order Date (if any).\")\n",
    "\n",
    "# === 9. Save transformed outputs ===\n",
    "trans_raw.to_csv(OUT_FULL, index=False)\n",
    "trans_inc.to_csv(OUT_INC, index=False)\n",
    "print(f\"\\n✅ Transformed files saved:\\n - {OUT_FULL}\\n - {OUT_INC}\")\n",
    "\n",
    "# === 10. Notebook-friendly summary (Markdown-like printout) ===\n",
    "print(\"\\n--- TRANSFORM PHASE SUMMARY ---\")\n",
    "print(f\"Input raw rows: {raw_df.shape[0]} -> Output (transformed) rows: {trans_raw.shape[0]}\")\n",
    "print(f\"Input incremental rows: {inc_df.shape[0]} -> Output (transformed) rows: {trans_inc.shape[0]}\")\n",
    "print(\"Transformations applied (examples):\")\n",
    "print(\" 1) Convert Order Date & Ship Date -> datetime\")\n",
    "print(\" 2) Create Shipping_Duration_days = Ship Date - Order Date\")\n",
    "print(\" 3) Create Profit_Margin = Profit / Sales\")\n",
    "print(\" 4) Postal Code -> string; trimmed textual fields\")\n",
    "print(\" 5) Sales_Tier (Low/Medium/High) via quantiles\")\n",
    "print(\" 6) Convert categorical columns to category dtype\")\n",
    "print(\" 7) Revenue_per_Item = Sales / Quantity\")\n",
    "print(\"All transformations are deterministic and the notebook is re-runnable.\")\n"
   ]
  },
  {
   "cell_type": "markdown",
   "id": "92853204",
   "metadata": {},
   "source": [
    "🧩 Transformation Overview\n",
    "\n",
    "In this phase, several data transformation operations were performed to clean, standardize, enrich, and categorize the dataset.\n",
    "The goal was to prepare the data for analysis by ensuring consistency, deriving new insights, and improving its usability.\n",
    "\n",
    "A total of 7 transformations were applied across multiple categories:\n",
    "\n",
    "Cleaning: Handling duplicates, trimming text, fixing data types.\n",
    "\n",
    "Standardization: Date formatting, converting postal codes.\n",
    "\n",
    "Enrichment: Adding new calculated fields such as Shipping_Duration_days, Profit_Margin, and Revenue_per_Item.\n",
    "\n",
    "Categorization: Creating Sales_Tier groups for sales performance segmentation.\n",
    "\n",
    "Structural: Converting certain fields to the category data type for efficiency.\n",
    "\n",
    "🧼 Transformation 1: Standardizing Date Fields\n",
    "\n",
    "Both Order Date and Ship Date were converted to the datetime data type to ensure accurate date-based calculations.\n",
    "This is a standardization step since it converts inconsistent string representations into a unified date format.\n",
    "\n",
    "Before:\n",
    "\n",
    "Order Date and Ship Date stored as text (object)\n",
    "After:\n",
    "\n",
    "Both converted to datetime64[ns], allowing arithmetic operations such as duration calculations.\n",
    "\n",
    "🚚 Transformation 2: Calculating Shipping Duration\n",
    "\n",
    "A new column, Shipping_Duration_days, was created to measure the number of days between order and shipment.\n",
    "This is an enrichment transformation, adding a derived metric useful for logistics analysis.\n",
    "\n",
    "Formula:\n",
    "Shipping_Duration_days = Ship Date – Order Date\n",
    "\n",
    "Insight:\n",
    "\n",
    "Most shipments are completed within 3–5 days, but any unusually high duration values could indicate logistical inefficiencies or delays.\n",
    "\n",
    "💰 Transformation 3: Calculating Profit Margin\n",
    "\n",
    "The Profit Margin column measures profitability as a ratio of profit to sales.\n",
    "It is another enrichment step that provides an important financial performance indicator.\n",
    "\n",
    "Formula:\n",
    "Profit_Margin = Profit / Sales\n",
    "\n",
    "Insight:\n",
    "\n",
    "Profit margins vary across categories — some transactions may have low margins due to discounts or operational costs.\n",
    "\n",
    "🔢 Transformation 4: Standardizing Postal Codes\n",
    "\n",
    "The Postal Code column was converted to a string type to maintain leading zeros and ensure consistency.\n",
    "This prevents postal codes like 01010 from being converted into integers (e.g., 1010).\n",
    "This step represents both standardization and structural adjustment.\n",
    "\n",
    "🧹 Transformation 5: Text Cleaning\n",
    "\n",
    "All text-based columns (such as Customer Name, City, Product Name, etc.) were stripped of extra spaces and standardized for uniformity.\n",
    "This is a cleaning step that eliminates inconsistencies caused by data entry errors.\n",
    "\n",
    "Before:\n",
    "\" Standard Class \" →\n",
    "After:\n",
    "\"Standard Class\"\n",
    "\n",
    "📊 Transformation 6: Creating Sales Tiers\n",
    "\n",
    "To better understand sales performance, a new categorical variable Sales_Tier was created based on quantiles of the Sales column.\n",
    "This divides transactions into three levels:\n",
    "\n",
    "Low: Bottom 25% of sales\n",
    "\n",
    "Medium: Middle 50%\n",
    "\n",
    "High: Top 25%\n",
    "\n",
    "This is a categorization transformation that simplifies analysis of sales volume distribution.\n",
    "\n",
    "Insight:\n",
    "\n",
    "Most transactions fall within the Medium tier, while High-tier transactions contribute significantly to overall revenue.\n",
    "\n",
    "🧠 Transformation 7: Revenue per Item\n",
    "\n",
    "The Revenue_per_Item field was derived by dividing total sales by quantity sold.\n",
    "This provides insight into unit-level pricing and helps detect outliers in pricing or discount structures.\n",
    "\n",
    "Formula:\n",
    "Revenue_per_Item = Sales / Quantity\n",
    "\n",
    "Insight:\n",
    "\n",
    "On average, products have consistent revenue per item, but certain high-ticket items can skew the mean upward.\n",
    "\n",
    "🧱 Transformation 8: Converting to Categorical Data Types\n",
    "\n",
    "Columns such as Ship Mode, Segment, Country, Region, Category, and Sub-Category were converted to the category data type.\n",
    "This improves memory efficiency and supports group-based analysis later on.\n",
    "\n",
    "🧽 Transformation 9: Removing Duplicate Rows\n",
    "\n",
    "A check was performed to remove any duplicate rows, ensuring each record is unique.\n",
    "Although few duplicates were found, this ensures the dataset’s integrity for subsequent analysis."
   ]
  },
  {
   "cell_type": "code",
   "execution_count": 3,
   "id": "1e9f98dd",
   "metadata": {},
   "outputs": [
    {
     "name": "stderr",
     "output_type": "stream",
     "text": [
      "C:\\Users\\kidig\\AppData\\Local\\Temp\\ipykernel_8120\\3919253907.py:4: FutureWarning: The default of observed=False is deprecated and will be changed to True in a future version of pandas. Pass observed=False to retain current behavior or observed=True to adopt the future default and silence this warning.\n",
      "  trans_raw.groupby('Region')[['Sales', 'Profit']]\n"
     ]
    },
    {
     "data": {
      "text/plain": [
       "<Figure size 800x500 with 0 Axes>"
      ]
     },
     "metadata": {},
     "output_type": "display_data"
    },
    {
     "data": {
      "image/png": "[encoded data removed]",
      "text/plain": [
       "<Figure size 640x480 with 1 Axes>"
      ]
     },
     "metadata": {},
     "output_type": "display_data"
    }
   ],
   "source": [
    "import matplotlib.pyplot as plt\n",
    "\n",
    "region_summary = (\n",
    "    trans_raw.groupby('Region')[['Sales', 'Profit']]\n",
    "    .sum()\n",
    "    .sort_values('Sales', ascending=False)\n",
    ")\n",
    "\n",
    "plt.figure(figsize=(8,5))\n",
    "region_summary.plot(kind='bar', rot=0)\n",
    "plt.title('Total Sales and Profit by Region')\n",
    "plt.ylabel('Amount ($)')\n",
    "plt.grid(axis='y', linestyle='--', alpha=0.7)\n",
    "plt.show()\n"
   ]
  },
  {
   "cell_type": "markdown",
   "id": "33fedf35",
   "metadata": {},
   "source": [
    "The plot shows that the West and East regions have the highest sales volumes, but profit distribution may vary due to differences in discount strategies or shipping costs."
   ]
  }
 ],
 "metadata": {
  "kernelspec": {
   "display_name": "Python 3",
   "language": "python",
   "name": "python3"
  },
  "language_info": {
   "codemirror_mode": {
    "name": "ipython",
    "version": 3
   },
   "file_extension": ".py",
   "mimetype": "text/x-python",
   "name": "python",
   "nbconvert_exporter": "python",
   "pygments_lexer": "ipython3",
   "version": "3.12.3"
  }
 },
 "nbformat": 4,
 "nbformat_minor": 5
}
