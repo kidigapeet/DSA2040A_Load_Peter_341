{
 "cells": [
  {
   "cell_type": "code",
   "execution_count": 1,
   "id": "e02c9052",
   "metadata": {},
   "outputs": [
    {
     "name": "stdout",
     "output_type": "stream",
     "text": [
      "✅ Datasets loaded successfully!\n",
      "Full dataset shape: (8996, 25)\n",
      "Incremental dataset shape: (998, 25)\n"
     ]
    }
   ],
   "source": [
    "# ============================================================\n",
    "# ETL LOAD PHASE - DSA 2040A Lab 5\n",
    "# Student: Peter [ID: 341]\n",
    "# Dataset: Superstore Sales (Transformed)\n",
    "# ============================================================\n",
    "\n",
    "# === 1. Import libraries ===\n",
    "import pandas as pd\n",
    "import sqlite3\n",
    "import os\n",
    "\n",
    "# === 2. Load transformed datasets ===\n",
    "df_full = pd.read_csv('C:/Users/kidig/OneDrive/Desktop/ET_Exam_Peter_341/Transformed/transformed_full.csv')\n",
    "df_inc  = pd.read_csv('C:/Users/kidig/OneDrive/Desktop/ET_Exam_Peter_341/Transformed/transformed_incremental.csv')\n",
    "\n",
    "print(\"✅ Datasets loaded successfully!\")\n",
    "print(\"Full dataset shape:\", df_full.shape)\n",
    "print(\"Incremental dataset shape:\", df_inc.shape)\n"
   ]
  },
  {
   "cell_type": "code",
   "execution_count": 2,
   "id": "33ce50f2",
   "metadata": {},
   "outputs": [
    {
     "name": "stdout",
     "output_type": "stream",
     "text": [
      "✅ Data loaded successfully into SQLite database!\n"
     ]
    },
    {
     "data": {
      "application/vnd.microsoft.datawrangler.viewer.v0+json": {
       "columns": [
        {
         "name": "index",
         "rawType": "int64",
         "type": "integer"
        },
        {
         "name": "Row ID",
         "rawType": "int64",
         "type": "integer"
        },
        {
         "name": "Order ID",
         "rawType": "object",
         "type": "string"
        },
        {
         "name": "Order Date",
         "rawType": "object",
         "type": "string"
        },
        {
         "name": "Ship Date",
         "rawType": "object",
         "type": "string"
        },
        {
         "name": "Ship Mode",
         "rawType": "object",
         "type": "string"
        },
        {
         "name": "Customer ID",
         "rawType": "object",
         "type": "string"
        },
        {
         "name": "Customer Name",
         "rawType": "object",
         "type": "string"
        },
        {
         "name": "Segment",
         "rawType": "object",
         "type": "string"
        },
        {
         "name": "Country",
         "rawType": "object",
         "type": "string"
        },
        {
         "name": "City",
         "rawType": "object",
         "type": "string"
        },
        {
         "name": "State",
         "rawType": "object",
         "type": "string"
        },
        {
         "name": "Postal Code",
         "rawType": "int64",
         "type": "integer"
        },
        {
         "name": "Region",
         "rawType": "object",
         "type": "string"
        },
        {
         "name": "Product ID",
         "rawType": "object",
         "type": "string"
        },
        {
         "name": "Category",
         "rawType": "object",
         "type": "string"
        },
        {
         "name": "Sub-Category",
         "rawType": "object",
         "type": "string"
        },
        {
         "name": "Product Name",
         "rawType": "object",
         "type": "string"
        },
        {
         "name": "Sales",
         "rawType": "float64",
         "type": "float"
        },
        {
         "name": "Quantity",
         "rawType": "int64",
         "type": "integer"
        },
        {
         "name": "Discount",
         "rawType": "float64",
         "type": "float"
        },
        {
         "name": "Profit",
         "rawType": "float64",
         "type": "float"
        },
        {
         "name": "Shipping_Duration_days",
         "rawType": "float64",
         "type": "float"
        },
        {
         "name": "Profit_Margin",
         "rawType": "float64",
         "type": "float"
        },
        {
         "name": "Sales_Tier",
         "rawType": "object",
         "type": "string"
        },
        {
         "name": "Revenue_per_Item",
         "rawType": "float64",
         "type": "float"
        }
       ],
       "ref": "bdb42a1f-51fb-4dcb-9163-84f9f7e689a3",
       "rows": [
        [
         "0",
         "7981",
         "CA-2014-103800",
         "2014-01-03",
         "2014-01-07",
         "Standard Class",
         "DP-13000",
         "Darren Powers",
         "Consumer",
         "United States",
         "Houston",
         "Texas",
         "77095",
         "Central",
         "OFF-PA-10000174",
         "Office Supplies",
         "Paper",
         "Message Book, Wirebound, Four 5 1/2\" X 4\" Forms/Pg., 200 Dupl. Sets/Book",
         "16.448",
         "2",
         "0.2",
         "5.5512",
         "4.0",
         "0.3374999999999999",
         "Low",
         "8.224"
        ],
        [
         "1",
         "740",
         "CA-2014-112326",
         "2014-01-04",
         "2014-01-08",
         "Standard Class",
         "PO-19195",
         "Phillina Ober",
         "Home Office",
         "United States",
         "Naperville",
         "Illinois",
         "60540",
         "Central",
         "OFF-LA-10003223",
         "Office Supplies",
         "Labels",
         "Avery 508",
         "11.784",
         "3",
         "0.2",
         "4.2717",
         "4.0",
         "0.3625",
         "Low",
         "3.928"
        ],
        [
         "2",
         "741",
         "CA-2014-112326",
         "2014-01-04",
         "2014-01-08",
         "Standard Class",
         "PO-19195",
         "Phillina Ober",
         "Home Office",
         "United States",
         "Naperville",
         "Illinois",
         "60540",
         "Central",
         "OFF-ST-10002743",
         "Office Supplies",
         "Storage",
         "SAFCO Boltless Steel Shelving",
         "272.736",
         "3",
         "0.2",
         "-64.7748",
         "4.0",
         "-0.2375",
         "High",
         "90.912"
        ],
        [
         "3",
         "742",
         "CA-2014-112326",
         "2014-01-04",
         "2014-01-08",
         "Standard Class",
         "PO-19195",
         "Phillina Ober",
         "Home Office",
         "United States",
         "Naperville",
         "Illinois",
         "60540",
         "Central",
         "OFF-BI-10004094",
         "Office Supplies",
         "Binders",
         "GBC Standard Plastic Binding Systems Combs",
         "3.54",
         "2",
         "0.8",
         "-5.487",
         "4.0",
         "-1.55",
         "Low",
         "1.77"
        ],
        [
         "4",
         "1760",
         "CA-2014-141817",
         "2014-01-05",
         "2014-01-12",
         "Standard Class",
         "MB-18085",
         "Mick Brown",
         "Consumer",
         "United States",
         "Philadelphia",
         "Pennsylvania",
         "19143",
         "East",
         "OFF-AR-10003478",
         "Office Supplies",
         "Art",
         "Avery Hi-Liter EverBold Pen Style Fluorescent Highlighters, 4/Pack",
         "19.536",
         "3",
         "0.2",
         "4.884",
         "7.0",
         "0.25",
         "Medium",
         "6.5120000000000005"
        ]
       ],
       "shape": {
        "columns": 25,
        "rows": 5
       }
      },
      "text/html": [
       "<div>\n",
       "<style scoped>\n",
       "    .dataframe tbody tr th:only-of-type {\n",
       "        vertical-align: middle;\n",
       "    }\n",
       "\n",
       "    .dataframe tbody tr th {\n",
       "        vertical-align: top;\n",
       "    }\n",
       "\n",
       "    .dataframe thead th {\n",
       "        text-align: right;\n",
       "    }\n",
       "</style>\n",
       "<table border=\"1\" class=\"dataframe\">\n",
       "  <thead>\n",
       "    <tr style=\"text-align: right;\">\n",
       "      <th></th>\n",
       "      <th>Row ID</th>\n",
       "      <th>Order ID</th>\n",
       "      <th>Order Date</th>\n",
       "      <th>Ship Date</th>\n",
       "      <th>Ship Mode</th>\n",
       "      <th>Customer ID</th>\n",
       "      <th>Customer Name</th>\n",
       "      <th>Segment</th>\n",
       "      <th>Country</th>\n",
       "      <th>City</th>\n",
       "      <th>...</th>\n",
       "      <th>Sub-Category</th>\n",
       "      <th>Product Name</th>\n",
       "      <th>Sales</th>\n",
       "      <th>Quantity</th>\n",
       "      <th>Discount</th>\n",
       "      <th>Profit</th>\n",
       "      <th>Shipping_Duration_days</th>\n",
       "      <th>Profit_Margin</th>\n",
       "      <th>Sales_Tier</th>\n",
       "      <th>Revenue_per_Item</th>\n",
       "    </tr>\n",
       "  </thead>\n",
       "  <tbody>\n",
       "    <tr>\n",
       "      <th>0</th>\n",
       "      <td>7981</td>\n",
       "      <td>CA-2014-103800</td>\n",
       "      <td>2014-01-03</td>\n",
       "      <td>2014-01-07</td>\n",
       "      <td>Standard Class</td>\n",
       "      <td>DP-13000</td>\n",
       "      <td>Darren Powers</td>\n",
       "      <td>Consumer</td>\n",
       "      <td>United States</td>\n",
       "      <td>Houston</td>\n",
       "      <td>...</td>\n",
       "      <td>Paper</td>\n",
       "      <td>Message Book, Wirebound, Four 5 1/2\" X 4\" Form...</td>\n",
       "      <td>16.448</td>\n",
       "      <td>2</td>\n",
       "      <td>0.2</td>\n",
       "      <td>5.5512</td>\n",
       "      <td>4.0</td>\n",
       "      <td>0.3375</td>\n",
       "      <td>Low</td>\n",
       "      <td>8.224</td>\n",
       "    </tr>\n",
       "    <tr>\n",
       "      <th>1</th>\n",
       "      <td>740</td>\n",
       "      <td>CA-2014-112326</td>\n",
       "      <td>2014-01-04</td>\n",
       "      <td>2014-01-08</td>\n",
       "      <td>Standard Class</td>\n",
       "      <td>PO-19195</td>\n",
       "      <td>Phillina Ober</td>\n",
       "      <td>Home Office</td>\n",
       "      <td>United States</td>\n",
       "      <td>Naperville</td>\n",
       "      <td>...</td>\n",
       "      <td>Labels</td>\n",
       "      <td>Avery 508</td>\n",
       "      <td>11.784</td>\n",
       "      <td>3</td>\n",
       "      <td>0.2</td>\n",
       "      <td>4.2717</td>\n",
       "      <td>4.0</td>\n",
       "      <td>0.3625</td>\n",
       "      <td>Low</td>\n",
       "      <td>3.928</td>\n",
       "    </tr>\n",
       "    <tr>\n",
       "      <th>2</th>\n",
       "      <td>741</td>\n",
       "      <td>CA-2014-112326</td>\n",
       "      <td>2014-01-04</td>\n",
       "      <td>2014-01-08</td>\n",
       "      <td>Standard Class</td>\n",
       "      <td>PO-19195</td>\n",
       "      <td>Phillina Ober</td>\n",
       "      <td>Home Office</td>\n",
       "      <td>United States</td>\n",
       "      <td>Naperville</td>\n",
       "      <td>...</td>\n",
       "      <td>Storage</td>\n",
       "      <td>SAFCO Boltless Steel Shelving</td>\n",
       "      <td>272.736</td>\n",
       "      <td>3</td>\n",
       "      <td>0.2</td>\n",
       "      <td>-64.7748</td>\n",
       "      <td>4.0</td>\n",
       "      <td>-0.2375</td>\n",
       "      <td>High</td>\n",
       "      <td>90.912</td>\n",
       "    </tr>\n",
       "    <tr>\n",
       "      <th>3</th>\n",
       "      <td>742</td>\n",
       "      <td>CA-2014-112326</td>\n",
       "      <td>2014-01-04</td>\n",
       "      <td>2014-01-08</td>\n",
       "      <td>Standard Class</td>\n",
       "      <td>PO-19195</td>\n",
       "      <td>Phillina Ober</td>\n",
       "      <td>Home Office</td>\n",
       "      <td>United States</td>\n",
       "      <td>Naperville</td>\n",
       "      <td>...</td>\n",
       "      <td>Binders</td>\n",
       "      <td>GBC Standard Plastic Binding Systems Combs</td>\n",
       "      <td>3.540</td>\n",
       "      <td>2</td>\n",
       "      <td>0.8</td>\n",
       "      <td>-5.4870</td>\n",
       "      <td>4.0</td>\n",
       "      <td>-1.5500</td>\n",
       "      <td>Low</td>\n",
       "      <td>1.770</td>\n",
       "    </tr>\n",
       "    <tr>\n",
       "      <th>4</th>\n",
       "      <td>1760</td>\n",
       "      <td>CA-2014-141817</td>\n",
       "      <td>2014-01-05</td>\n",
       "      <td>2014-01-12</td>\n",
       "      <td>Standard Class</td>\n",
       "      <td>MB-18085</td>\n",
       "      <td>Mick Brown</td>\n",
       "      <td>Consumer</td>\n",
       "      <td>United States</td>\n",
       "      <td>Philadelphia</td>\n",
       "      <td>...</td>\n",
       "      <td>Art</td>\n",
       "      <td>Avery Hi-Liter EverBold Pen Style Fluorescent ...</td>\n",
       "      <td>19.536</td>\n",
       "      <td>3</td>\n",
       "      <td>0.2</td>\n",
       "      <td>4.8840</td>\n",
       "      <td>7.0</td>\n",
       "      <td>0.2500</td>\n",
       "      <td>Medium</td>\n",
       "      <td>6.512</td>\n",
       "    </tr>\n",
       "  </tbody>\n",
       "</table>\n",
       "<p>5 rows × 25 columns</p>\n",
       "</div>"
      ],
      "text/plain": [
       "   Row ID        Order ID  Order Date   Ship Date       Ship Mode Customer ID  \\\n",
       "0    7981  CA-2014-103800  2014-01-03  2014-01-07  Standard Class    DP-13000   \n",
       "1     740  CA-2014-112326  2014-01-04  2014-01-08  Standard Class    PO-19195   \n",
       "2     741  CA-2014-112326  2014-01-04  2014-01-08  Standard Class    PO-19195   \n",
       "3     742  CA-2014-112326  2014-01-04  2014-01-08  Standard Class    PO-19195   \n",
       "4    1760  CA-2014-141817  2014-01-05  2014-01-12  Standard Class    MB-18085   \n",
       "\n",
       "   Customer Name      Segment        Country          City  ... Sub-Category  \\\n",
       "0  Darren Powers     Consumer  United States       Houston  ...        Paper   \n",
       "1  Phillina Ober  Home Office  United States    Naperville  ...       Labels   \n",
       "2  Phillina Ober  Home Office  United States    Naperville  ...      Storage   \n",
       "3  Phillina Ober  Home Office  United States    Naperville  ...      Binders   \n",
       "4     Mick Brown     Consumer  United States  Philadelphia  ...          Art   \n",
       "\n",
       "                                        Product Name    Sales Quantity  \\\n",
       "0  Message Book, Wirebound, Four 5 1/2\" X 4\" Form...   16.448        2   \n",
       "1                                          Avery 508   11.784        3   \n",
       "2                      SAFCO Boltless Steel Shelving  272.736        3   \n",
       "3         GBC Standard Plastic Binding Systems Combs    3.540        2   \n",
       "4  Avery Hi-Liter EverBold Pen Style Fluorescent ...   19.536        3   \n",
       "\n",
       "  Discount   Profit Shipping_Duration_days  Profit_Margin  Sales_Tier  \\\n",
       "0      0.2   5.5512                    4.0         0.3375         Low   \n",
       "1      0.2   4.2717                    4.0         0.3625         Low   \n",
       "2      0.2 -64.7748                    4.0        -0.2375        High   \n",
       "3      0.8  -5.4870                    4.0        -1.5500         Low   \n",
       "4      0.2   4.8840                    7.0         0.2500      Medium   \n",
       "\n",
       "   Revenue_per_Item  \n",
       "0             8.224  \n",
       "1             3.928  \n",
       "2            90.912  \n",
       "3             1.770  \n",
       "4             6.512  \n",
       "\n",
       "[5 rows x 25 columns]"
      ]
     },
     "metadata": {},
     "output_type": "display_data"
    },
    {
     "data": {
      "application/vnd.microsoft.datawrangler.viewer.v0+json": {
       "columns": [
        {
         "name": "index",
         "rawType": "int64",
         "type": "integer"
        },
        {
         "name": "total_records",
         "rawType": "int64",
         "type": "integer"
        }
       ],
       "ref": "9e765db7-dcba-4074-8039-1ee076c5a62d",
       "rows": [
        [
         "0",
         "8996"
        ]
       ],
       "shape": {
        "columns": 1,
        "rows": 1
       }
      },
      "text/html": [
       "<div>\n",
       "<style scoped>\n",
       "    .dataframe tbody tr th:only-of-type {\n",
       "        vertical-align: middle;\n",
       "    }\n",
       "\n",
       "    .dataframe tbody tr th {\n",
       "        vertical-align: top;\n",
       "    }\n",
       "\n",
       "    .dataframe thead th {\n",
       "        text-align: right;\n",
       "    }\n",
       "</style>\n",
       "<table border=\"1\" class=\"dataframe\">\n",
       "  <thead>\n",
       "    <tr style=\"text-align: right;\">\n",
       "      <th></th>\n",
       "      <th>total_records</th>\n",
       "    </tr>\n",
       "  </thead>\n",
       "  <tbody>\n",
       "    <tr>\n",
       "      <th>0</th>\n",
       "      <td>8996</td>\n",
       "    </tr>\n",
       "  </tbody>\n",
       "</table>\n",
       "</div>"
      ],
      "text/plain": [
       "   total_records\n",
       "0           8996"
      ]
     },
     "metadata": {},
     "output_type": "display_data"
    }
   ],
   "source": [
    "# === 3. Load into SQLite database ===\n",
    "os.makedirs('C:/Users/kidig/OneDrive/Desktop/ET_Exam_Peter_341/Loaded', exist_ok=True)\n",
    "\n",
    "conn = sqlite3.connect('C:/Users/kidig/OneDrive/Desktop/ET_Exam_Peter_341/Loaded/full_data.db')\n",
    "\n",
    "# Write both tables\n",
    "df_full.to_sql('full_data', conn, if_exists='replace', index=False)\n",
    "df_inc.to_sql('incremental_data', conn, if_exists='replace', index=False)\n",
    "\n",
    "print(\"✅ Data loaded successfully into SQLite database!\")\n",
    "\n",
    "# Verify by running a SQL query\n",
    "preview = pd.read_sql('SELECT * FROM full_data LIMIT 5;', conn)\n",
    "display(preview)\n",
    "\n",
    "# Check record count\n",
    "count = pd.read_sql('SELECT COUNT(*) AS total_records FROM full_data;', conn)\n",
    "display(count)\n",
    "\n",
    "conn.close()\n"
   ]
  },
  {
   "cell_type": "code",
   "execution_count": 3,
   "id": "9e3a9c9e",
   "metadata": {},
   "outputs": [
    {
     "name": "stdout",
     "output_type": "stream",
     "text": [
      "✅ Data saved as Parquet files!\n"
     ]
    },
    {
     "data": {
      "application/vnd.microsoft.datawrangler.viewer.v0+json": {
       "columns": [
        {
         "name": "index",
         "rawType": "int64",
         "type": "integer"
        },
        {
         "name": "Row ID",
         "rawType": "int64",
         "type": "integer"
        },
        {
         "name": "Order ID",
         "rawType": "object",
         "type": "string"
        },
        {
         "name": "Order Date",
         "rawType": "object",
         "type": "string"
        },
        {
         "name": "Ship Date",
         "rawType": "object",
         "type": "string"
        },
        {
         "name": "Ship Mode",
         "rawType": "object",
         "type": "string"
        },
        {
         "name": "Customer ID",
         "rawType": "object",
         "type": "string"
        },
        {
         "name": "Customer Name",
         "rawType": "object",
         "type": "string"
        },
        {
         "name": "Segment",
         "rawType": "object",
         "type": "string"
        },
        {
         "name": "Country",
         "rawType": "object",
         "type": "string"
        },
        {
         "name": "City",
         "rawType": "object",
         "type": "string"
        },
        {
         "name": "State",
         "rawType": "object",
         "type": "string"
        },
        {
         "name": "Postal Code",
         "rawType": "int64",
         "type": "integer"
        },
        {
         "name": "Region",
         "rawType": "object",
         "type": "string"
        },
        {
         "name": "Product ID",
         "rawType": "object",
         "type": "string"
        },
        {
         "name": "Category",
         "rawType": "object",
         "type": "string"
        },
        {
         "name": "Sub-Category",
         "rawType": "object",
         "type": "string"
        },
        {
         "name": "Product Name",
         "rawType": "object",
         "type": "string"
        },
        {
         "name": "Sales",
         "rawType": "float64",
         "type": "float"
        },
        {
         "name": "Quantity",
         "rawType": "int64",
         "type": "integer"
        },
        {
         "name": "Discount",
         "rawType": "float64",
         "type": "float"
        },
        {
         "name": "Profit",
         "rawType": "float64",
         "type": "float"
        },
        {
         "name": "Shipping_Duration_days",
         "rawType": "float64",
         "type": "float"
        },
        {
         "name": "Profit_Margin",
         "rawType": "float64",
         "type": "float"
        },
        {
         "name": "Sales_Tier",
         "rawType": "object",
         "type": "string"
        },
        {
         "name": "Revenue_per_Item",
         "rawType": "float64",
         "type": "float"
        }
       ],
       "ref": "cad5b044-afaf-4807-af31-e6c94fa22fdc",
       "rows": [
        [
         "0",
         "7981",
         "CA-2014-103800",
         "2014-01-03",
         "2014-01-07",
         "Standard Class",
         "DP-13000",
         "Darren Powers",
         "Consumer",
         "United States",
         "Houston",
         "Texas",
         "77095",
         "Central",
         "OFF-PA-10000174",
         "Office Supplies",
         "Paper",
         "Message Book, Wirebound, Four 5 1/2\" X 4\" Forms/Pg., 200 Dupl. Sets/Book",
         "16.448",
         "2",
         "0.2",
         "5.5512",
         "4.0",
         "0.3374999999999999",
         "Low",
         "8.224"
        ],
        [
         "1",
         "740",
         "CA-2014-112326",
         "2014-01-04",
         "2014-01-08",
         "Standard Class",
         "PO-19195",
         "Phillina Ober",
         "Home Office",
         "United States",
         "Naperville",
         "Illinois",
         "60540",
         "Central",
         "OFF-LA-10003223",
         "Office Supplies",
         "Labels",
         "Avery 508",
         "11.784",
         "3",
         "0.2",
         "4.2717",
         "4.0",
         "0.3625",
         "Low",
         "3.928"
        ],
        [
         "2",
         "741",
         "CA-2014-112326",
         "2014-01-04",
         "2014-01-08",
         "Standard Class",
         "PO-19195",
         "Phillina Ober",
         "Home Office",
         "United States",
         "Naperville",
         "Illinois",
         "60540",
         "Central",
         "OFF-ST-10002743",
         "Office Supplies",
         "Storage",
         "SAFCO Boltless Steel Shelving",
         "272.736",
         "3",
         "0.2",
         "-64.7748",
         "4.0",
         "-0.2375",
         "High",
         "90.912"
        ],
        [
         "3",
         "742",
         "CA-2014-112326",
         "2014-01-04",
         "2014-01-08",
         "Standard Class",
         "PO-19195",
         "Phillina Ober",
         "Home Office",
         "United States",
         "Naperville",
         "Illinois",
         "60540",
         "Central",
         "OFF-BI-10004094",
         "Office Supplies",
         "Binders",
         "GBC Standard Plastic Binding Systems Combs",
         "3.54",
         "2",
         "0.8",
         "-5.487",
         "4.0",
         "-1.55",
         "Low",
         "1.77"
        ],
        [
         "4",
         "1760",
         "CA-2014-141817",
         "2014-01-05",
         "2014-01-12",
         "Standard Class",
         "MB-18085",
         "Mick Brown",
         "Consumer",
         "United States",
         "Philadelphia",
         "Pennsylvania",
         "19143",
         "East",
         "OFF-AR-10003478",
         "Office Supplies",
         "Art",
         "Avery Hi-Liter EverBold Pen Style Fluorescent Highlighters, 4/Pack",
         "19.536",
         "3",
         "0.2",
         "4.884",
         "7.0",
         "0.25",
         "Medium",
         "6.5120000000000005"
        ]
       ],
       "shape": {
        "columns": 25,
        "rows": 5
       }
      },
      "text/html": [
       "<div>\n",
       "<style scoped>\n",
       "    .dataframe tbody tr th:only-of-type {\n",
       "        vertical-align: middle;\n",
       "    }\n",
       "\n",
       "    .dataframe tbody tr th {\n",
       "        vertical-align: top;\n",
       "    }\n",
       "\n",
       "    .dataframe thead th {\n",
       "        text-align: right;\n",
       "    }\n",
       "</style>\n",
       "<table border=\"1\" class=\"dataframe\">\n",
       "  <thead>\n",
       "    <tr style=\"text-align: right;\">\n",
       "      <th></th>\n",
       "      <th>Row ID</th>\n",
       "      <th>Order ID</th>\n",
       "      <th>Order Date</th>\n",
       "      <th>Ship Date</th>\n",
       "      <th>Ship Mode</th>\n",
       "      <th>Customer ID</th>\n",
       "      <th>Customer Name</th>\n",
       "      <th>Segment</th>\n",
       "      <th>Country</th>\n",
       "      <th>City</th>\n",
       "      <th>...</th>\n",
       "      <th>Sub-Category</th>\n",
       "      <th>Product Name</th>\n",
       "      <th>Sales</th>\n",
       "      <th>Quantity</th>\n",
       "      <th>Discount</th>\n",
       "      <th>Profit</th>\n",
       "      <th>Shipping_Duration_days</th>\n",
       "      <th>Profit_Margin</th>\n",
       "      <th>Sales_Tier</th>\n",
       "      <th>Revenue_per_Item</th>\n",
       "    </tr>\n",
       "  </thead>\n",
       "  <tbody>\n",
       "    <tr>\n",
       "      <th>0</th>\n",
       "      <td>7981</td>\n",
       "      <td>CA-2014-103800</td>\n",
       "      <td>2014-01-03</td>\n",
       "      <td>2014-01-07</td>\n",
       "      <td>Standard Class</td>\n",
       "      <td>DP-13000</td>\n",
       "      <td>Darren Powers</td>\n",
       "      <td>Consumer</td>\n",
       "      <td>United States</td>\n",
       "      <td>Houston</td>\n",
       "      <td>...</td>\n",
       "      <td>Paper</td>\n",
       "      <td>Message Book, Wirebound, Four 5 1/2\" X 4\" Form...</td>\n",
       "      <td>16.448</td>\n",
       "      <td>2</td>\n",
       "      <td>0.2</td>\n",
       "      <td>5.5512</td>\n",
       "      <td>4.0</td>\n",
       "      <td>0.3375</td>\n",
       "      <td>Low</td>\n",
       "      <td>8.224</td>\n",
       "    </tr>\n",
       "    <tr>\n",
       "      <th>1</th>\n",
       "      <td>740</td>\n",
       "      <td>CA-2014-112326</td>\n",
       "      <td>2014-01-04</td>\n",
       "      <td>2014-01-08</td>\n",
       "      <td>Standard Class</td>\n",
       "      <td>PO-19195</td>\n",
       "      <td>Phillina Ober</td>\n",
       "      <td>Home Office</td>\n",
       "      <td>United States</td>\n",
       "      <td>Naperville</td>\n",
       "      <td>...</td>\n",
       "      <td>Labels</td>\n",
       "      <td>Avery 508</td>\n",
       "      <td>11.784</td>\n",
       "      <td>3</td>\n",
       "      <td>0.2</td>\n",
       "      <td>4.2717</td>\n",
       "      <td>4.0</td>\n",
       "      <td>0.3625</td>\n",
       "      <td>Low</td>\n",
       "      <td>3.928</td>\n",
       "    </tr>\n",
       "    <tr>\n",
       "      <th>2</th>\n",
       "      <td>741</td>\n",
       "      <td>CA-2014-112326</td>\n",
       "      <td>2014-01-04</td>\n",
       "      <td>2014-01-08</td>\n",
       "      <td>Standard Class</td>\n",
       "      <td>PO-19195</td>\n",
       "      <td>Phillina Ober</td>\n",
       "      <td>Home Office</td>\n",
       "      <td>United States</td>\n",
       "      <td>Naperville</td>\n",
       "      <td>...</td>\n",
       "      <td>Storage</td>\n",
       "      <td>SAFCO Boltless Steel Shelving</td>\n",
       "      <td>272.736</td>\n",
       "      <td>3</td>\n",
       "      <td>0.2</td>\n",
       "      <td>-64.7748</td>\n",
       "      <td>4.0</td>\n",
       "      <td>-0.2375</td>\n",
       "      <td>High</td>\n",
       "      <td>90.912</td>\n",
       "    </tr>\n",
       "    <tr>\n",
       "      <th>3</th>\n",
       "      <td>742</td>\n",
       "      <td>CA-2014-112326</td>\n",
       "      <td>2014-01-04</td>\n",
       "      <td>2014-01-08</td>\n",
       "      <td>Standard Class</td>\n",
       "      <td>PO-19195</td>\n",
       "      <td>Phillina Ober</td>\n",
       "      <td>Home Office</td>\n",
       "      <td>United States</td>\n",
       "      <td>Naperville</td>\n",
       "      <td>...</td>\n",
       "      <td>Binders</td>\n",
       "      <td>GBC Standard Plastic Binding Systems Combs</td>\n",
       "      <td>3.540</td>\n",
       "      <td>2</td>\n",
       "      <td>0.8</td>\n",
       "      <td>-5.4870</td>\n",
       "      <td>4.0</td>\n",
       "      <td>-1.5500</td>\n",
       "      <td>Low</td>\n",
       "      <td>1.770</td>\n",
       "    </tr>\n",
       "    <tr>\n",
       "      <th>4</th>\n",
       "      <td>1760</td>\n",
       "      <td>CA-2014-141817</td>\n",
       "      <td>2014-01-05</td>\n",
       "      <td>2014-01-12</td>\n",
       "      <td>Standard Class</td>\n",
       "      <td>MB-18085</td>\n",
       "      <td>Mick Brown</td>\n",
       "      <td>Consumer</td>\n",
       "      <td>United States</td>\n",
       "      <td>Philadelphia</td>\n",
       "      <td>...</td>\n",
       "      <td>Art</td>\n",
       "      <td>Avery Hi-Liter EverBold Pen Style Fluorescent ...</td>\n",
       "      <td>19.536</td>\n",
       "      <td>3</td>\n",
       "      <td>0.2</td>\n",
       "      <td>4.8840</td>\n",
       "      <td>7.0</td>\n",
       "      <td>0.2500</td>\n",
       "      <td>Medium</td>\n",
       "      <td>6.512</td>\n",
       "    </tr>\n",
       "  </tbody>\n",
       "</table>\n",
       "<p>5 rows × 25 columns</p>\n",
       "</div>"
      ],
      "text/plain": [
       "   Row ID        Order ID  Order Date   Ship Date       Ship Mode Customer ID  \\\n",
       "0    7981  CA-2014-103800  2014-01-03  2014-01-07  Standard Class    DP-13000   \n",
       "1     740  CA-2014-112326  2014-01-04  2014-01-08  Standard Class    PO-19195   \n",
       "2     741  CA-2014-112326  2014-01-04  2014-01-08  Standard Class    PO-19195   \n",
       "3     742  CA-2014-112326  2014-01-04  2014-01-08  Standard Class    PO-19195   \n",
       "4    1760  CA-2014-141817  2014-01-05  2014-01-12  Standard Class    MB-18085   \n",
       "\n",
       "   Customer Name      Segment        Country          City  ... Sub-Category  \\\n",
       "0  Darren Powers     Consumer  United States       Houston  ...        Paper   \n",
       "1  Phillina Ober  Home Office  United States    Naperville  ...       Labels   \n",
       "2  Phillina Ober  Home Office  United States    Naperville  ...      Storage   \n",
       "3  Phillina Ober  Home Office  United States    Naperville  ...      Binders   \n",
       "4     Mick Brown     Consumer  United States  Philadelphia  ...          Art   \n",
       "\n",
       "                                        Product Name    Sales Quantity  \\\n",
       "0  Message Book, Wirebound, Four 5 1/2\" X 4\" Form...   16.448        2   \n",
       "1                                          Avery 508   11.784        3   \n",
       "2                      SAFCO Boltless Steel Shelving  272.736        3   \n",
       "3         GBC Standard Plastic Binding Systems Combs    3.540        2   \n",
       "4  Avery Hi-Liter EverBold Pen Style Fluorescent ...   19.536        3   \n",
       "\n",
       "  Discount   Profit Shipping_Duration_days  Profit_Margin  Sales_Tier  \\\n",
       "0      0.2   5.5512                    4.0         0.3375         Low   \n",
       "1      0.2   4.2717                    4.0         0.3625         Low   \n",
       "2      0.2 -64.7748                    4.0        -0.2375        High   \n",
       "3      0.8  -5.4870                    4.0        -1.5500         Low   \n",
       "4      0.2   4.8840                    7.0         0.2500      Medium   \n",
       "\n",
       "   Revenue_per_Item  \n",
       "0             8.224  \n",
       "1             3.928  \n",
       "2            90.912  \n",
       "3             1.770  \n",
       "4             6.512  \n",
       "\n",
       "[5 rows x 25 columns]"
      ]
     },
     "metadata": {},
     "output_type": "display_data"
    }
   ],
   "source": [
    "# === 4. Save to Parquet format ===\n",
    "os.makedirs('C:/Users/kidig/OneDrive/Desktop/ET_Exam_Peter_341/Loaded', exist_ok=True)\n",
    "\n",
    "df_full.to_parquet('C:/Users/kidig/OneDrive/Desktop/ET_Exam_Peter_341/Loaded/full_data.parquet', index=False)\n",
    "df_inc.to_parquet('C:/Users/kidig/OneDrive/Desktop/ET_Exam_Peter_341/Loaded/incremental_data.parquet', index=False)\n",
    "\n",
    "print(\"✅ Data saved as Parquet files!\")\n",
    "\n",
    "# Verify by reading back\n",
    "parquet_check = pd.read_parquet('C:/Users/kidig/OneDrive/Desktop/ET_Exam_Peter_341/Loaded/full_data.parquet')\n",
    "display(parquet_check.head())\n"
   ]
  },
  {
   "cell_type": "code",
   "execution_count": 4,
   "id": "a5292c93",
   "metadata": {},
   "outputs": [
    {
     "name": "stdout",
     "output_type": "stream",
     "text": [
      "✅ Verification Summary:\n",
      "- full_data.db and full_data.parquet created successfully in /Loaded folder\n",
      "- Record count: 8996\n",
      "- Columns: ['Row ID', 'Order ID', 'Order Date', 'Ship Date', 'Ship Mode', 'Customer ID', 'Customer Name', 'Segment', 'Country', 'City', 'State', 'Postal Code', 'Region', 'Product ID', 'Category', 'Sub-Category', 'Product Name', 'Sales', 'Quantity', 'Discount', 'Profit', 'Shipping_Duration_days', 'Profit_Margin', 'Sales_Tier', 'Revenue_per_Item']\n",
      "- Data types:\n"
     ]
    },
    {
     "data": {
      "application/vnd.microsoft.datawrangler.viewer.v0+json": {
       "columns": [
        {
         "name": "index",
         "rawType": "object",
         "type": "string"
        },
        {
         "name": "0",
         "rawType": "object",
         "type": "unknown"
        }
       ],
       "ref": "94f02aa2-e3dd-442c-8487-1c1a7ec7a7ec",
       "rows": [
        [
         "Row ID",
         "int64"
        ],
        [
         "Order ID",
         "object"
        ],
        [
         "Order Date",
         "object"
        ],
        [
         "Ship Date",
         "object"
        ],
        [
         "Ship Mode",
         "object"
        ],
        [
         "Customer ID",
         "object"
        ],
        [
         "Customer Name",
         "object"
        ],
        [
         "Segment",
         "object"
        ],
        [
         "Country",
         "object"
        ],
        [
         "City",
         "object"
        ],
        [
         "State",
         "object"
        ],
        [
         "Postal Code",
         "int64"
        ],
        [
         "Region",
         "object"
        ],
        [
         "Product ID",
         "object"
        ],
        [
         "Category",
         "object"
        ],
        [
         "Sub-Category",
         "object"
        ],
        [
         "Product Name",
         "object"
        ],
        [
         "Sales",
         "float64"
        ],
        [
         "Quantity",
         "int64"
        ],
        [
         "Discount",
         "float64"
        ],
        [
         "Profit",
         "float64"
        ],
        [
         "Shipping_Duration_days",
         "float64"
        ],
        [
         "Profit_Margin",
         "float64"
        ],
        [
         "Sales_Tier",
         "object"
        ],
        [
         "Revenue_per_Item",
         "float64"
        ]
       ],
       "shape": {
        "columns": 1,
        "rows": 25
       }
      },
      "text/plain": [
       "Row ID                      int64\n",
       "Order ID                   object\n",
       "Order Date                 object\n",
       "Ship Date                  object\n",
       "Ship Mode                  object\n",
       "Customer ID                object\n",
       "Customer Name              object\n",
       "Segment                    object\n",
       "Country                    object\n",
       "City                       object\n",
       "State                      object\n",
       "Postal Code                 int64\n",
       "Region                     object\n",
       "Product ID                 object\n",
       "Category                   object\n",
       "Sub-Category               object\n",
       "Product Name               object\n",
       "Sales                     float64\n",
       "Quantity                    int64\n",
       "Discount                  float64\n",
       "Profit                    float64\n",
       "Shipping_Duration_days    float64\n",
       "Profit_Margin             float64\n",
       "Sales_Tier                 object\n",
       "Revenue_per_Item          float64\n",
       "dtype: object"
      ]
     },
     "metadata": {},
     "output_type": "display_data"
    }
   ],
   "source": [
    "print(\"✅ Verification Summary:\")\n",
    "print(\"- full_data.db and full_data.parquet created successfully in /Loaded folder\")\n",
    "print(\"- Record count:\", df_full.shape[0])\n",
    "print(\"- Columns:\", list(df_full.columns))\n",
    "print(\"- Data types:\")\n",
    "display(df_full.dtypes)\n"
   ]
  },
  {
   "cell_type": "code",
   "execution_count": 12,
   "id": "1882706a",
   "metadata": {},
   "outputs": [
    {
     "data": {
      "application/vnd.microsoft.datawrangler.viewer.v0+json": {
       "columns": [
        {
         "name": "index",
         "rawType": "int64",
         "type": "integer"
        },
        {
         "name": "Row ID",
         "rawType": "int64",
         "type": "integer"
        },
        {
         "name": "Order ID",
         "rawType": "object",
         "type": "string"
        },
        {
         "name": "Order Date",
         "rawType": "object",
         "type": "string"
        },
        {
         "name": "Ship Date",
         "rawType": "object",
         "type": "string"
        },
        {
         "name": "Ship Mode",
         "rawType": "object",
         "type": "string"
        },
        {
         "name": "Customer ID",
         "rawType": "object",
         "type": "string"
        },
        {
         "name": "Customer Name",
         "rawType": "object",
         "type": "string"
        },
        {
         "name": "Segment",
         "rawType": "object",
         "type": "string"
        },
        {
         "name": "Country",
         "rawType": "object",
         "type": "string"
        },
        {
         "name": "City",
         "rawType": "object",
         "type": "string"
        },
        {
         "name": "State",
         "rawType": "object",
         "type": "string"
        },
        {
         "name": "Postal Code",
         "rawType": "int64",
         "type": "integer"
        },
        {
         "name": "Region",
         "rawType": "object",
         "type": "string"
        },
        {
         "name": "Product ID",
         "rawType": "object",
         "type": "string"
        },
        {
         "name": "Category",
         "rawType": "object",
         "type": "string"
        },
        {
         "name": "Sub-Category",
         "rawType": "object",
         "type": "string"
        },
        {
         "name": "Product Name",
         "rawType": "object",
         "type": "string"
        },
        {
         "name": "Sales",
         "rawType": "float64",
         "type": "float"
        },
        {
         "name": "Quantity",
         "rawType": "int64",
         "type": "integer"
        },
        {
         "name": "Discount",
         "rawType": "float64",
         "type": "float"
        },
        {
         "name": "Profit",
         "rawType": "float64",
         "type": "float"
        },
        {
         "name": "Shipping_Duration_days",
         "rawType": "float64",
         "type": "float"
        },
        {
         "name": "Profit_Margin",
         "rawType": "float64",
         "type": "float"
        },
        {
         "name": "Sales_Tier",
         "rawType": "object",
         "type": "string"
        },
        {
         "name": "Revenue_per_Item",
         "rawType": "float64",
         "type": "float"
        }
       ],
       "ref": "29a86fab-2a5e-45c2-97a6-1c18c8f171ee",
       "rows": [
        [
         "0",
         "7981",
         "CA-2014-103800",
         "2014-01-03",
         "2014-01-07",
         "Standard Class",
         "DP-13000",
         "Darren Powers",
         "Consumer",
         "United States",
         "Houston",
         "Texas",
         "77095",
         "Central",
         "OFF-PA-10000174",
         "Office Supplies",
         "Paper",
         "Message Book, Wirebound, Four 5 1/2\" X 4\" Forms/Pg., 200 Dupl. Sets/Book",
         "16.448",
         "2",
         "0.2",
         "5.5512",
         "4.0",
         "0.3374999999999999",
         "Low",
         "8.224"
        ],
        [
         "1",
         "740",
         "CA-2014-112326",
         "2014-01-04",
         "2014-01-08",
         "Standard Class",
         "PO-19195",
         "Phillina Ober",
         "Home Office",
         "United States",
         "Naperville",
         "Illinois",
         "60540",
         "Central",
         "OFF-LA-10003223",
         "Office Supplies",
         "Labels",
         "Avery 508",
         "11.784",
         "3",
         "0.2",
         "4.2717",
         "4.0",
         "0.3625",
         "Low",
         "3.928"
        ],
        [
         "2",
         "741",
         "CA-2014-112326",
         "2014-01-04",
         "2014-01-08",
         "Standard Class",
         "PO-19195",
         "Phillina Ober",
         "Home Office",
         "United States",
         "Naperville",
         "Illinois",
         "60540",
         "Central",
         "OFF-ST-10002743",
         "Office Supplies",
         "Storage",
         "SAFCO Boltless Steel Shelving",
         "272.736",
         "3",
         "0.2",
         "-64.7748",
         "4.0",
         "-0.2375",
         "High",
         "90.912"
        ],
        [
         "3",
         "742",
         "CA-2014-112326",
         "2014-01-04",
         "2014-01-08",
         "Standard Class",
         "PO-19195",
         "Phillina Ober",
         "Home Office",
         "United States",
         "Naperville",
         "Illinois",
         "60540",
         "Central",
         "OFF-BI-10004094",
         "Office Supplies",
         "Binders",
         "GBC Standard Plastic Binding Systems Combs",
         "3.54",
         "2",
         "0.8",
         "-5.487",
         "4.0",
         "-1.55",
         "Low",
         "1.77"
        ],
        [
         "4",
         "1760",
         "CA-2014-141817",
         "2014-01-05",
         "2014-01-12",
         "Standard Class",
         "MB-18085",
         "Mick Brown",
         "Consumer",
         "United States",
         "Philadelphia",
         "Pennsylvania",
         "19143",
         "East",
         "OFF-AR-10003478",
         "Office Supplies",
         "Art",
         "Avery Hi-Liter EverBold Pen Style Fluorescent Highlighters, 4/Pack",
         "19.536",
         "3",
         "0.2",
         "4.884",
         "7.0",
         "0.25",
         "Medium",
         "6.5120000000000005"
        ]
       ],
       "shape": {
        "columns": 25,
        "rows": 5
       }
      },
      "text/html": [
       "<div>\n",
       "<style scoped>\n",
       "    .dataframe tbody tr th:only-of-type {\n",
       "        vertical-align: middle;\n",
       "    }\n",
       "\n",
       "    .dataframe tbody tr th {\n",
       "        vertical-align: top;\n",
       "    }\n",
       "\n",
       "    .dataframe thead th {\n",
       "        text-align: right;\n",
       "    }\n",
       "</style>\n",
       "<table border=\"1\" class=\"dataframe\">\n",
       "  <thead>\n",
       "    <tr style=\"text-align: right;\">\n",
       "      <th></th>\n",
       "      <th>Row ID</th>\n",
       "      <th>Order ID</th>\n",
       "      <th>Order Date</th>\n",
       "      <th>Ship Date</th>\n",
       "      <th>Ship Mode</th>\n",
       "      <th>Customer ID</th>\n",
       "      <th>Customer Name</th>\n",
       "      <th>Segment</th>\n",
       "      <th>Country</th>\n",
       "      <th>City</th>\n",
       "      <th>...</th>\n",
       "      <th>Sub-Category</th>\n",
       "      <th>Product Name</th>\n",
       "      <th>Sales</th>\n",
       "      <th>Quantity</th>\n",
       "      <th>Discount</th>\n",
       "      <th>Profit</th>\n",
       "      <th>Shipping_Duration_days</th>\n",
       "      <th>Profit_Margin</th>\n",
       "      <th>Sales_Tier</th>\n",
       "      <th>Revenue_per_Item</th>\n",
       "    </tr>\n",
       "  </thead>\n",
       "  <tbody>\n",
       "    <tr>\n",
       "      <th>0</th>\n",
       "      <td>7981</td>\n",
       "      <td>CA-2014-103800</td>\n",
       "      <td>2014-01-03</td>\n",
       "      <td>2014-01-07</td>\n",
       "      <td>Standard Class</td>\n",
       "      <td>DP-13000</td>\n",
       "      <td>Darren Powers</td>\n",
       "      <td>Consumer</td>\n",
       "      <td>United States</td>\n",
       "      <td>Houston</td>\n",
       "      <td>...</td>\n",
       "      <td>Paper</td>\n",
       "      <td>Message Book, Wirebound, Four 5 1/2\" X 4\" Form...</td>\n",
       "      <td>16.448</td>\n",
       "      <td>2</td>\n",
       "      <td>0.2</td>\n",
       "      <td>5.5512</td>\n",
       "      <td>4.0</td>\n",
       "      <td>0.3375</td>\n",
       "      <td>Low</td>\n",
       "      <td>8.224</td>\n",
       "    </tr>\n",
       "    <tr>\n",
       "      <th>1</th>\n",
       "      <td>740</td>\n",
       "      <td>CA-2014-112326</td>\n",
       "      <td>2014-01-04</td>\n",
       "      <td>2014-01-08</td>\n",
       "      <td>Standard Class</td>\n",
       "      <td>PO-19195</td>\n",
       "      <td>Phillina Ober</td>\n",
       "      <td>Home Office</td>\n",
       "      <td>United States</td>\n",
       "      <td>Naperville</td>\n",
       "      <td>...</td>\n",
       "      <td>Labels</td>\n",
       "      <td>Avery 508</td>\n",
       "      <td>11.784</td>\n",
       "      <td>3</td>\n",
       "      <td>0.2</td>\n",
       "      <td>4.2717</td>\n",
       "      <td>4.0</td>\n",
       "      <td>0.3625</td>\n",
       "      <td>Low</td>\n",
       "      <td>3.928</td>\n",
       "    </tr>\n",
       "    <tr>\n",
       "      <th>2</th>\n",
       "      <td>741</td>\n",
       "      <td>CA-2014-112326</td>\n",
       "      <td>2014-01-04</td>\n",
       "      <td>2014-01-08</td>\n",
       "      <td>Standard Class</td>\n",
       "      <td>PO-19195</td>\n",
       "      <td>Phillina Ober</td>\n",
       "      <td>Home Office</td>\n",
       "      <td>United States</td>\n",
       "      <td>Naperville</td>\n",
       "      <td>...</td>\n",
       "      <td>Storage</td>\n",
       "      <td>SAFCO Boltless Steel Shelving</td>\n",
       "      <td>272.736</td>\n",
       "      <td>3</td>\n",
       "      <td>0.2</td>\n",
       "      <td>-64.7748</td>\n",
       "      <td>4.0</td>\n",
       "      <td>-0.2375</td>\n",
       "      <td>High</td>\n",
       "      <td>90.912</td>\n",
       "    </tr>\n",
       "    <tr>\n",
       "      <th>3</th>\n",
       "      <td>742</td>\n",
       "      <td>CA-2014-112326</td>\n",
       "      <td>2014-01-04</td>\n",
       "      <td>2014-01-08</td>\n",
       "      <td>Standard Class</td>\n",
       "      <td>PO-19195</td>\n",
       "      <td>Phillina Ober</td>\n",
       "      <td>Home Office</td>\n",
       "      <td>United States</td>\n",
       "      <td>Naperville</td>\n",
       "      <td>...</td>\n",
       "      <td>Binders</td>\n",
       "      <td>GBC Standard Plastic Binding Systems Combs</td>\n",
       "      <td>3.540</td>\n",
       "      <td>2</td>\n",
       "      <td>0.8</td>\n",
       "      <td>-5.4870</td>\n",
       "      <td>4.0</td>\n",
       "      <td>-1.5500</td>\n",
       "      <td>Low</td>\n",
       "      <td>1.770</td>\n",
       "    </tr>\n",
       "    <tr>\n",
       "      <th>4</th>\n",
       "      <td>1760</td>\n",
       "      <td>CA-2014-141817</td>\n",
       "      <td>2014-01-05</td>\n",
       "      <td>2014-01-12</td>\n",
       "      <td>Standard Class</td>\n",
       "      <td>MB-18085</td>\n",
       "      <td>Mick Brown</td>\n",
       "      <td>Consumer</td>\n",
       "      <td>United States</td>\n",
       "      <td>Philadelphia</td>\n",
       "      <td>...</td>\n",
       "      <td>Art</td>\n",
       "      <td>Avery Hi-Liter EverBold Pen Style Fluorescent ...</td>\n",
       "      <td>19.536</td>\n",
       "      <td>3</td>\n",
       "      <td>0.2</td>\n",
       "      <td>4.8840</td>\n",
       "      <td>7.0</td>\n",
       "      <td>0.2500</td>\n",
       "      <td>Medium</td>\n",
       "      <td>6.512</td>\n",
       "    </tr>\n",
       "  </tbody>\n",
       "</table>\n",
       "<p>5 rows × 25 columns</p>\n",
       "</div>"
      ],
      "text/plain": [
       "   Row ID        Order ID  Order Date   Ship Date       Ship Mode Customer ID  \\\n",
       "0    7981  CA-2014-103800  2014-01-03  2014-01-07  Standard Class    DP-13000   \n",
       "1     740  CA-2014-112326  2014-01-04  2014-01-08  Standard Class    PO-19195   \n",
       "2     741  CA-2014-112326  2014-01-04  2014-01-08  Standard Class    PO-19195   \n",
       "3     742  CA-2014-112326  2014-01-04  2014-01-08  Standard Class    PO-19195   \n",
       "4    1760  CA-2014-141817  2014-01-05  2014-01-12  Standard Class    MB-18085   \n",
       "\n",
       "   Customer Name      Segment        Country          City  ... Sub-Category  \\\n",
       "0  Darren Powers     Consumer  United States       Houston  ...        Paper   \n",
       "1  Phillina Ober  Home Office  United States    Naperville  ...       Labels   \n",
       "2  Phillina Ober  Home Office  United States    Naperville  ...      Storage   \n",
       "3  Phillina Ober  Home Office  United States    Naperville  ...      Binders   \n",
       "4     Mick Brown     Consumer  United States  Philadelphia  ...          Art   \n",
       "\n",
       "                                        Product Name    Sales Quantity  \\\n",
       "0  Message Book, Wirebound, Four 5 1/2\" X 4\" Form...   16.448        2   \n",
       "1                                          Avery 508   11.784        3   \n",
       "2                      SAFCO Boltless Steel Shelving  272.736        3   \n",
       "3         GBC Standard Plastic Binding Systems Combs    3.540        2   \n",
       "4  Avery Hi-Liter EverBold Pen Style Fluorescent ...   19.536        3   \n",
       "\n",
       "  Discount   Profit Shipping_Duration_days  Profit_Margin  Sales_Tier  \\\n",
       "0      0.2   5.5512                    4.0         0.3375         Low   \n",
       "1      0.2   4.2717                    4.0         0.3625         Low   \n",
       "2      0.2 -64.7748                    4.0        -0.2375        High   \n",
       "3      0.8  -5.4870                    4.0        -1.5500         Low   \n",
       "4      0.2   4.8840                    7.0         0.2500      Medium   \n",
       "\n",
       "   Revenue_per_Item  \n",
       "0             8.224  \n",
       "1             3.928  \n",
       "2            90.912  \n",
       "3             1.770  \n",
       "4             6.512  \n",
       "\n",
       "[5 rows x 25 columns]"
      ]
     },
     "execution_count": 12,
     "metadata": {},
     "output_type": "execute_result"
    }
   ],
   "source": [
    "# Additional verification: Reconnect to the database and run a sample query\n",
    "conn = sqlite3.connect('C:/Users/kidig/OneDrive/Desktop/ET_Exam_Peter_341/Loaded/full_data.db')\n",
    "\n",
    "# Run your query\n",
    "pd.read_sql('SELECT * FROM full_data LIMIT 5;', conn)\n",
    "\n",
    "\n"
   ]
  }
 ],
 "metadata": {
  "kernelspec": {
   "display_name": "Python 3",
   "language": "python",
   "name": "python3"
  },
  "language_info": {
   "codemirror_mode": {
    "name": "ipython",
    "version": 3
   },
   "file_extension": ".py",
   "mimetype": "text/x-python",
   "name": "python",
   "nbconvert_exporter": "python",
   "pygments_lexer": "ipython3",
   "version": "3.12.3"
  }
 },
 "nbformat": 4,
 "nbformat_minor": 5
}
